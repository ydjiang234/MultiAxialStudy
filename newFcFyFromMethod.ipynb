{
 "cells": [
  {
   "cell_type": "code",
   "execution_count": 46,
   "metadata": {},
   "outputs": [
    {
     "name": "stdout",
     "output_type": "stream",
     "text": [
      "27.165540657 327.609019266\n",
      "23.928830169 319.107909036\n",
      "29.9137201327 411.309983611\n",
      "32.7303820303 400.782150472\n",
      "56.8254278758 414.484518272\n",
      "49.526198475 406.383505622\n",
      "80.3435706994 414.790044665\n",
      "70.185818427 410.018635199\n"
     ]
    }
   ],
   "source": [
    "import numpy as np\n",
    "import matplotlib.pyplot as plt\n",
    "import matplotlib\n",
    "from matplotlib.font_manager import FontProperties\n",
    "from scipy.interpolate import interp1d\n",
    "import os \n",
    "import sys\n",
    "from CFST_Cir_Section_Analysis import CFST_Cir_Section_Analysis\n",
    "from DataMonoClass import DataMono\n",
    "\n",
    "\n",
    "\n",
    "def cutData(data, ratio=0.4, num=20):\n",
    "    DD, N, M, Nc, Mc, Ns, Ms = data\n",
    "    threhold = ratio * M.max()\n",
    "    for i in range(M.size):\n",
    "        if M[i] >= threhold:\n",
    "            break\n",
    "    data = data[:,i:]\n",
    "    DD, N, M, Nc, Mc, Ns, Ms = data\n",
    "    f = interp1d(data[0], data)\n",
    "    DD_new = np.linspace(DD[0], DD[-1], num=num)\n",
    "    return f(DD_new)\n",
    "\n",
    "cutRatio = 0.2\n",
    "iniRatio = 0.6\n",
    "targetDuctility = 3.5\n",
    "loadLevel = [0, 0.05, 0.1, 0.2, 0.3]\n",
    "\n",
    "pathTest = 'D:/Google Drive/Python_Scripts/Test'\n",
    "path = './Test'\n",
    "\n",
    "#Load Specimen group\n",
    "f = open('{0}/Specimen_Group.txt'.format(pathTest), 'r')\n",
    "groups = [int(item)-1 for item in f.read().split('\\n')[0].split(' ')]\n",
    "\n",
    "f.close()\n",
    "\n",
    "#Load the specimen data\n",
    "Conditions = np.loadtxt('{0}/Specimen_Conditions.txt'.format(pathTest))[groups]\n",
    "#load specimen names\n",
    "names = np.loadtxt('{0}/file_names.txt'.format(path), dtype='str')\n",
    "\n",
    "output = np.zeros((1,6))\n",
    "for i in range(len(names)):\n",
    "    curData = np.loadtxt('{0}/{1}.out'.format(path, names[i])).T\n",
    "    curData = cutData(curData, cutRatio, num=100)\n",
    "    DD, N, M, Nc, Mc, Ns, Ms = curData\n",
    "    D, temp, t, L, fc, fy, fu, Naxial = Conditions[i]\n",
    "    curCFST = CFST_Cir_Section_Analysis(D, t, fc, fy, Num=20)\n",
    "    fccs, hcs = curCFST.getFcAvg(Nc*1000.0, Mc*1.0e6)\n",
    "    fybs, hss = curCFST.getFyAvg(Ns*1000.0, Ms*1.0e6)\n",
    "    \n",
    "    fcData = DataMono(DD, fccs, iniRatio)\n",
    "    fyData = DataMono(DD, fybs, iniRatio)\n",
    "    \n",
    "    temp, fcc = fcData.findYield1()\n",
    "    temp, fyb = fyData.findYieldByDuctility(targetDuctility)\n",
    "    \n",
    "    print(fcc, fyb)\n",
    "    #fcc = min(fcc, fccs[-1])\n",
    "    #fig, ax = plt.subplots(1,1)\n",
    "    #ax.plot(DD, fybs)\n",
    "    output = np.vstack((output, [D, t, L, fcc, fyb, Naxial]))\n",
    "output = output[1:]\n",
    "np.savetxt('./Test/condition_Method.out', output)"
   ]
  }
 ],
 "metadata": {
  "kernelspec": {
   "display_name": "Python 3",
   "language": "python",
   "name": "python3"
  },
  "language_info": {
   "codemirror_mode": {
    "name": "ipython",
    "version": 3
   },
   "file_extension": ".py",
   "mimetype": "text/x-python",
   "name": "python",
   "nbconvert_exporter": "python",
   "pygments_lexer": "ipython3",
   "version": "3.6.2"
  }
 },
 "nbformat": 4,
 "nbformat_minor": 2
}
