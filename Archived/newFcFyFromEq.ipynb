{
 "cells": [
  {
   "cell_type": "code",
   "execution_count": 2,
   "metadata": {},
   "outputs": [],
   "source": [
    "import numpy as np\n",
    "import matplotlib.pyplot as plt\n",
    "import matplotlib\n",
    "from matplotlib.font_manager import FontProperties\n",
    "import os \n",
    "import sys\n",
    "from CFST_Cir_Base import CFST_Cir\n",
    "\n",
    "def FcFy(fc, fy, level, factor, ac, bc, as1, as2, bs):\n",
    "    fc1 = ac * factor + bc\n",
    "    fy1 = (as1 * level + as2) * factor + bs\n",
    "    return fc1*fc, fy1*fy\n",
    "\n",
    "\n",
    "pathTest = 'D:/Google Drive/Python_Scripts/Test'\n",
    "\n",
    "#Load SPecimen group\n",
    "f = open('{0}/Specimen_Group.txt'.format(pathTest), 'r')\n",
    "groups = [int(item)-1 for item in f.read().split('\\n')[0].split(' ')]\n",
    "\n",
    "f.close()\n",
    "#Load the specimen data\n",
    "Conditions = np.loadtxt('{0}/Specimen_Conditions.txt'.format(pathTest))[groups]\n",
    "#Load the factors\n",
    "ac, bc = np.loadtxt('factorC.out')\n",
    "as1, as2, bs = np.loadtxt('factorS1.out')\n",
    "#Calculate the new fc and fy\n",
    "output = np.zeros((1,6))\n",
    "for i in range(len(groups)):\n",
    "    curNo = groups[i]\n",
    "    D, temp, t, L, fc, fy, fu, Naxial = Conditions[i]\n",
    "    curCFST = CFST_Cir(D, t, fc, fy)\n",
    "    factor = np.log10(curCFST.Ac * curCFST.fc / curCFST.As / curCFST.fy**0.5)\n",
    "    level = Naxial * 1.0e3 / (curCFST.Ac * curCFST.fc + curCFST.As * curCFST.fy)\n",
    "    fc1, fy1 = FcFy(fc, fy, level, factor, ac, bc, as1, as2, bs)\n",
    "    output = np.vstack((output, [D, t, L, fc1, fy1, Naxial]))\n",
    "output = output[1:]\n",
    "np.savetxt('./Test/condition_Eq.out', output)"
   ]
  }
 ],
 "metadata": {
  "kernelspec": {
   "display_name": "Python 3",
   "language": "python",
   "name": "python3"
  },
  "language_info": {
   "codemirror_mode": {
    "name": "ipython",
    "version": 3
   },
   "file_extension": ".py",
   "mimetype": "text/x-python",
   "name": "python",
   "nbconvert_exporter": "python",
   "pygments_lexer": "ipython3",
   "version": "3.6.2"
  }
 },
 "nbformat": 4,
 "nbformat_minor": 2
}
